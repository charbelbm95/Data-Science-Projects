{
 "cells": [
  {
   "cell_type": "markdown",
   "metadata": {},
   "source": [
    "### Simple Linear Regression Mini Project - Charbel BOU MALHAM"
   ]
  },
  {
   "cell_type": "markdown",
   "metadata": {},
   "source": [
    "##### Project Title: Linear Relationship between Sales and Advertisig"
   ]
  },
  {
   "cell_type": "markdown",
   "metadata": {},
   "source": [
    "##### Overview  "
   ]
  },
  {
   "cell_type": "markdown",
   "metadata": {},
   "source": [
    "In this project i build a simple linear regression between 2 continuous variables"
   ]
  },
  {
   "cell_type": "markdown",
   "metadata": {},
   "source": [
    "##### Linear Regression"
   ]
  },
  {
   "cell_type": "markdown",
   "metadata": {},
   "source": [
    "Linear Regression is a statistical technique which is used to find the linear relationship between dependent and one or more independent variables. This technique is applicable for Supervised learning Regression problems where we try to predict a continuous variable.\n",
    "\n",
    "Linear Regression can be further classified into two types – Simple and Multiple Linear Regression. In this project, I employ Simple Linear Regression technique where I have one independent and one dependent variable. It is the simplest form of Linear Regression where we fit a straight line to the data."
   ]
  },
  {
   "cell_type": "markdown",
   "metadata": {},
   "source": [
    "#### Simple Linear Regression overview"
   ]
  },
  {
   "cell_type": "markdown",
   "metadata": {},
   "source": [
    "Simple Linear Regression (or SLR) is the simplest model in machine learning. It models the linear relationship between the independent and dependent variables.\n",
    "\n",
    "In this project, there is one independent or input variable which represents the Sales data and is denoted by X. Similarly, there is one dependent or output variable which represents the Advertising data and is denoted by y. We want to build a linear relationship between these variables. This linear relationship can be modelled by mathematical equation of the form:- Y = β0 + β1*X ------------- (1)\n",
    "\n",
    "In this equation, X and Y are called independent and dependent variables respectively,\n",
    "\n",
    "β1 is the coefficient for independent variable and\n",
    "\n",
    "β0 is the constant term.\n",
    "\n",
    "β0 and β1 are called parameters of the model.\n",
    "\n",
    "For simplicity, we can compare the above equation with the basic line equation of the form:-\n",
    "\n",
    "               y = ax + b       ----------------- (2)\n",
    "\n",
    "We can see that\n",
    "\n",
    "slope of the line is given by, a = β1, and\n",
    "\n",
    "intercept of the line by b = β0.\n",
    "\n",
    "In this Simple Linear Regression model, we want to fit a line which estimates the linear relationship between X and Y. So, the question of fitting reduces to estimating the parameters of the model β0 and β1."
   ]
  },
  {
   "cell_type": "markdown",
   "metadata": {},
   "source": [
    "##### Ordinary Least Square Method"
   ]
  },
  {
   "cell_type": "markdown",
   "metadata": {},
   "source": [
    "As I have described earlier, the Sales and Advertising data are given by X and y respectively. We can draw a scatter plot between X and y which shows the relationship between them.\n",
    "\n",
    "Now, our task is to find a line which best fits this scatter plot. This line will help us to predict the value of any Target variable for any given Feature variable. This line is called Regression line.\n",
    "\n",
    "We can define an error function for any line. Then, the regression line is the one which minimizes the error function. Such an error function is also called a Cost function."
   ]
  },
  {
   "cell_type": "markdown",
   "metadata": {},
   "source": [
    "#### Cost Function\n",
    "\n",
    "We want the Regression line to resemble the dataset as closely as possible. In other words, we want the line to be as close to actual data points as possible. It can be achieved by minimizing the vertical distance between the actual data point and fitted line. I calculate the vertical distance between each data point and the line. This distance is called the residual.\n",
    "\n",
    "So, in a regression model, we try to minimize the residuals by finding the line of best fit. The residuals are represented by the vertical dotted lines from actual data points to the line.\n",
    "\n",
    "We can try to minimize the sum of the residuals, but then a large positive residual would cancel out a large negative residual. For this reason, we minimize the sum of the squares of the residuals.\n",
    "\n",
    "Mathematically, we denote actual data points by yi and predicted data points by ŷi. So, the residual for a data point i would be given as di = yi - ŷi\n",
    "\n",
    "Sum of the squares of the residuals is given as:\n",
    "\n",
    "\t\t\tD = Ʃ di**2       for all data points\n",
    "            \n",
    "\n",
    "This is the Cost function. It denotes the total error present in the model which is the sum of the total errors of each individual data point.\n",
    "\n",
    "We can estimate the parameters of the model β0 and β1 by minimize the error in the model by minimizing D. Thus, we can find the regression line given by equation (1).\n",
    "\n",
    "This method of finding the parameters of the model and thus regression line is called Ordinary Least Square Method."
   ]
  },
  {
   "cell_type": "markdown",
   "metadata": {},
   "source": [
    "\n",
    "##### The problem statement\n",
    "\n",
    "The aim of building a machine learning model is to solve a problem and to define a metric to measure model performance.\n",
    "\n",
    "The problem is to model and investigate the linear relationship between Sales and Advertising dataset for a dietary weight control product.\n",
    "\n",
    "I have used two performance metrics RMSE (Root Mean Square Value) and R2 Score value to compute our model performance.\n",
    "\n",
    "This Project will be Detailed Step by Step\n",
    "\n"
   ]
  },
  {
   "cell_type": "markdown",
   "metadata": {},
   "source": [
    " #### Dataset\n",
    "\n",
    " The data set has been imported from the econometrics website :\n",
    "\n",
    "http://www.econometrics.com/intro/sales.htm"
   ]
  },
  {
   "cell_type": "markdown",
   "metadata": {},
   "source": [
    "#####  Import Necessary Libraries\n",
    "\n",
    "• Numpy – It provides a fast numerical array structure and operating functions.\n",
    "\n",
    "• pandas – It provides tools for data storage, manipulation and analysis tasks.\n",
    "\n",
    "• Scikit-Learn – The required machine learning library in Python.\n",
    "\n",
    "• Matplotlib – It is the basic plotting library in Python. It provides tools for making plots."
   ]
  },
  {
   "cell_type": "code",
   "execution_count": 59,
   "metadata": {},
   "outputs": [],
   "source": [
    "# Import Necessary Libraries\n",
    "\n",
    "import numpy as np\n",
    "import pandas as pd\n",
    "import matplotlib.pyplot as plt\n"
   ]
  },
  {
   "cell_type": "code",
   "execution_count": 60,
   "metadata": {},
   "outputs": [],
   "source": [
    "%matplotlib inline"
   ]
  },
  {
   "cell_type": "code",
   "execution_count": 61,
   "metadata": {},
   "outputs": [],
   "source": [
    "# Download the dataset and convert it to csv\n",
    "\n",
    "with open(\"sales_data.txt\", \"r\") as file:\n",
    "    lines = file.readlines()\n",
    "\n",
    "# Split each line into two values and create CSV format lines\n",
    "csv_data = []\n",
    "for line in lines:\n",
    "    values = line.strip().split()  # Split values by spaces\n",
    "    csv_line = \",\".join(values)    # Join values with a comma\n",
    "    csv_data.append(csv_line)\n",
    "\n",
    "# Write the CSV data to a new file\n",
    "with open(\"data.csv\", \"w\") as file:\n",
    "    file.write(\"\\n\".join(csv_data))\n",
    "    \n",
    "df=pd.read_csv(\"data.csv\",header=None)"
   ]
  },
  {
   "cell_type": "markdown",
   "metadata": {},
   "source": [
    "##### Exploratory data analysis (EDA)"
   ]
  },
  {
   "cell_type": "code",
   "execution_count": 62,
   "metadata": {},
   "outputs": [
    {
     "data": {
      "text/plain": [
       "(36, 2)"
      ]
     },
     "execution_count": 62,
     "metadata": {},
     "output_type": "execute_result"
    }
   ],
   "source": [
    "# Shape of the data\n",
    "df.shape"
   ]
  },
  {
   "cell_type": "code",
   "execution_count": 63,
   "metadata": {},
   "outputs": [
    {
     "data": {
      "text/html": [
       "<div>\n",
       "<style scoped>\n",
       "    .dataframe tbody tr th:only-of-type {\n",
       "        vertical-align: middle;\n",
       "    }\n",
       "\n",
       "    .dataframe tbody tr th {\n",
       "        vertical-align: top;\n",
       "    }\n",
       "\n",
       "    .dataframe thead th {\n",
       "        text-align: right;\n",
       "    }\n",
       "</style>\n",
       "<table border=\"1\" class=\"dataframe\">\n",
       "  <thead>\n",
       "    <tr style=\"text-align: right;\">\n",
       "      <th></th>\n",
       "      <th>0</th>\n",
       "      <th>1</th>\n",
       "    </tr>\n",
       "  </thead>\n",
       "  <tbody>\n",
       "    <tr>\n",
       "      <th>0</th>\n",
       "      <td>12.0</td>\n",
       "      <td>15.0</td>\n",
       "    </tr>\n",
       "    <tr>\n",
       "      <th>1</th>\n",
       "      <td>20.5</td>\n",
       "      <td>16.0</td>\n",
       "    </tr>\n",
       "    <tr>\n",
       "      <th>2</th>\n",
       "      <td>21.0</td>\n",
       "      <td>18.0</td>\n",
       "    </tr>\n",
       "    <tr>\n",
       "      <th>3</th>\n",
       "      <td>15.5</td>\n",
       "      <td>27.0</td>\n",
       "    </tr>\n",
       "    <tr>\n",
       "      <th>4</th>\n",
       "      <td>15.3</td>\n",
       "      <td>21.0</td>\n",
       "    </tr>\n",
       "  </tbody>\n",
       "</table>\n",
       "</div>"
      ],
      "text/plain": [
       "      0     1\n",
       "0  12.0  15.0\n",
       "1  20.5  16.0\n",
       "2  21.0  18.0\n",
       "3  15.5  27.0\n",
       "4  15.3  21.0"
      ]
     },
     "execution_count": 63,
     "metadata": {},
     "output_type": "execute_result"
    }
   ],
   "source": [
    "# Head of the data\n",
    "df.head()"
   ]
  },
  {
   "cell_type": "code",
   "execution_count": 64,
   "metadata": {},
   "outputs": [
    {
     "data": {
      "text/html": [
       "<div>\n",
       "<style scoped>\n",
       "    .dataframe tbody tr th:only-of-type {\n",
       "        vertical-align: middle;\n",
       "    }\n",
       "\n",
       "    .dataframe tbody tr th {\n",
       "        vertical-align: top;\n",
       "    }\n",
       "\n",
       "    .dataframe thead th {\n",
       "        text-align: right;\n",
       "    }\n",
       "</style>\n",
       "<table border=\"1\" class=\"dataframe\">\n",
       "  <thead>\n",
       "    <tr style=\"text-align: right;\">\n",
       "      <th></th>\n",
       "      <th>Sales</th>\n",
       "      <th>Advertising</th>\n",
       "    </tr>\n",
       "  </thead>\n",
       "  <tbody>\n",
       "    <tr>\n",
       "      <th>0</th>\n",
       "      <td>12.0</td>\n",
       "      <td>15.0</td>\n",
       "    </tr>\n",
       "    <tr>\n",
       "      <th>1</th>\n",
       "      <td>20.5</td>\n",
       "      <td>16.0</td>\n",
       "    </tr>\n",
       "    <tr>\n",
       "      <th>2</th>\n",
       "      <td>21.0</td>\n",
       "      <td>18.0</td>\n",
       "    </tr>\n",
       "    <tr>\n",
       "      <th>3</th>\n",
       "      <td>15.5</td>\n",
       "      <td>27.0</td>\n",
       "    </tr>\n",
       "    <tr>\n",
       "      <th>4</th>\n",
       "      <td>15.3</td>\n",
       "      <td>21.0</td>\n",
       "    </tr>\n",
       "  </tbody>\n",
       "</table>\n",
       "</div>"
      ],
      "text/plain": [
       "   Sales  Advertising\n",
       "0   12.0         15.0\n",
       "1   20.5         16.0\n",
       "2   21.0         18.0\n",
       "3   15.5         27.0\n",
       "4   15.3         21.0"
      ]
     },
     "execution_count": 64,
     "metadata": {},
     "output_type": "execute_result"
    }
   ],
   "source": [
    "# Renapme the columns\n",
    "df.columns=[\"Sales\",\"Advertising\"]\n",
    "df.head()"
   ]
  },
  {
   "cell_type": "code",
   "execution_count": 65,
   "metadata": {},
   "outputs": [
    {
     "name": "stdout",
     "output_type": "stream",
     "text": [
      "<class 'pandas.core.frame.DataFrame'>\n",
      "RangeIndex: 36 entries, 0 to 35\n",
      "Data columns (total 2 columns):\n",
      " #   Column       Non-Null Count  Dtype  \n",
      "---  ------       --------------  -----  \n",
      " 0   Sales        36 non-null     float64\n",
      " 1   Advertising  36 non-null     float64\n",
      "dtypes: float64(2)\n",
      "memory usage: 708.0 bytes\n"
     ]
    }
   ],
   "source": [
    "# Get info about the data\n",
    "df.info()"
   ]
  },
  {
   "cell_type": "code",
   "execution_count": 66,
   "metadata": {},
   "outputs": [
    {
     "data": {
      "text/html": [
       "<div>\n",
       "<style scoped>\n",
       "    .dataframe tbody tr th:only-of-type {\n",
       "        vertical-align: middle;\n",
       "    }\n",
       "\n",
       "    .dataframe tbody tr th {\n",
       "        vertical-align: top;\n",
       "    }\n",
       "\n",
       "    .dataframe thead th {\n",
       "        text-align: right;\n",
       "    }\n",
       "</style>\n",
       "<table border=\"1\" class=\"dataframe\">\n",
       "  <thead>\n",
       "    <tr style=\"text-align: right;\">\n",
       "      <th></th>\n",
       "      <th>Sales</th>\n",
       "      <th>Advertising</th>\n",
       "    </tr>\n",
       "  </thead>\n",
       "  <tbody>\n",
       "    <tr>\n",
       "      <th>count</th>\n",
       "      <td>36.000000</td>\n",
       "      <td>36.000000</td>\n",
       "    </tr>\n",
       "    <tr>\n",
       "      <th>mean</th>\n",
       "      <td>24.255556</td>\n",
       "      <td>28.527778</td>\n",
       "    </tr>\n",
       "    <tr>\n",
       "      <th>std</th>\n",
       "      <td>6.185118</td>\n",
       "      <td>18.777625</td>\n",
       "    </tr>\n",
       "    <tr>\n",
       "      <th>min</th>\n",
       "      <td>12.000000</td>\n",
       "      <td>1.000000</td>\n",
       "    </tr>\n",
       "    <tr>\n",
       "      <th>25%</th>\n",
       "      <td>20.300000</td>\n",
       "      <td>15.750000</td>\n",
       "    </tr>\n",
       "    <tr>\n",
       "      <th>50%</th>\n",
       "      <td>24.250000</td>\n",
       "      <td>23.000000</td>\n",
       "    </tr>\n",
       "    <tr>\n",
       "      <th>75%</th>\n",
       "      <td>28.600000</td>\n",
       "      <td>41.000000</td>\n",
       "    </tr>\n",
       "    <tr>\n",
       "      <th>max</th>\n",
       "      <td>36.500000</td>\n",
       "      <td>65.000000</td>\n",
       "    </tr>\n",
       "  </tbody>\n",
       "</table>\n",
       "</div>"
      ],
      "text/plain": [
       "           Sales  Advertising\n",
       "count  36.000000    36.000000\n",
       "mean   24.255556    28.527778\n",
       "std     6.185118    18.777625\n",
       "min    12.000000     1.000000\n",
       "25%    20.300000    15.750000\n",
       "50%    24.250000    23.000000\n",
       "75%    28.600000    41.000000\n",
       "max    36.500000    65.000000"
      ]
     },
     "execution_count": 66,
     "metadata": {},
     "output_type": "execute_result"
    }
   ],
   "source": [
    "# Get a short description of the data\n",
    "df.describe()"
   ]
  },
  {
   "cell_type": "markdown",
   "metadata": {},
   "source": [
    "\n",
    "### Define Independent and Dependent Variables\n",
    "\n",
    "In this project, I refer Independent variable as Feature variable and Dependent variable as Target variable. These variables are also recognized by different names as follows: -\n",
    "Independent variable\n",
    "\n",
    "Independent variable is also called Input variable and is denoted by X. In practical applications, independent variable is also called Feature variable or Predictor variable. We can denote it as:-\n",
    "\n",
    "Independent or Input variable (X) = Feature variable = Predictor variable\n",
    "Dependent variable\n",
    "\n",
    "Dependent variable is also called Output variable and is denoted by y.\n",
    "\n",
    "Dependent variable is also called Target variable or Response variable. It can be denoted it as follows:-\n",
    "\n",
    "Dependent or Output variable (y) = Target variable = Response variable\n"
   ]
  },
  {
   "cell_type": "code",
   "execution_count": 68,
   "metadata": {},
   "outputs": [],
   "source": [
    "X=df[\"Sales\"].values\n",
    "y=df[\"Advertising\"].values\n"
   ]
  },
  {
   "cell_type": "markdown",
   "metadata": {},
   "source": [
    "##### Visual Exploratory data analysis (EDA)"
   ]
  },
  {
   "cell_type": "code",
   "execution_count": 69,
   "metadata": {},
   "outputs": [
    {
     "data": {
      "image/png": "[encoded data removed]",
      "text/plain": [
       "<Figure size 640x480 with 1 Axes>"
      ]
     },
     "metadata": {},
     "output_type": "display_data"
    }
   ],
   "source": [
    "plt.scatter(X, y, color = 'red')\n",
    "plt.title('Scatter Plot between Sales and Advertising')\n",
    "plt.xlabel('Sales')\n",
    "plt.ylabel('Advertising')\n",
    "plt.show()"
   ]
  },
  {
   "cell_type": "markdown",
   "metadata": {},
   "source": [
    "#### Checking Dimensions of X and "
   ]
  },
  {
   "cell_type": "code",
   "execution_count": 70,
   "metadata": {},
   "outputs": [
    {
     "name": "stdout",
     "output_type": "stream",
     "text": [
      "X shape:  (36,)\n",
      "y shape:  (36,)\n"
     ]
    }
   ],
   "source": [
    "print(\"X shape: \",X.shape)\n",
    "print(\"y shape: \",y.shape)"
   ]
  },
  {
   "cell_type": "code",
   "execution_count": 71,
   "metadata": {},
   "outputs": [
    {
     "name": "stdout",
     "output_type": "stream",
     "text": [
      "X shape:  (36, 1)\n",
      "y shape:  (36, 1)\n"
     ]
    }
   ],
   "source": [
    "# Reshape the data\n",
    "X=X.reshape(-1,1)\n",
    "y=y.reshape(-1,1)\n",
    "print(\"X shape: \",X.shape)\n",
    "print(\"y shape: \",y.shape)"
   ]
  },
  {
   "cell_type": "markdown",
   "metadata": {},
   "source": [
    "##### Train Test Split"
   ]
  },
  {
   "cell_type": "code",
   "execution_count": 72,
   "metadata": {},
   "outputs": [],
   "source": [
    "from sklearn.model_selection import train_test_split\n",
    "\n",
    "X_train, X_test, y_train, y_test = train_test_split(X, y, test_size = 0.25 , random_state = 42)"
   ]
  },
  {
   "cell_type": "code",
   "execution_count": 73,
   "metadata": {},
   "outputs": [
    {
     "name": "stdout",
     "output_type": "stream",
     "text": [
      "X_train shape:  (27, 1)\n",
      "y_train shape:  (27, 1)\n",
      "X_test shape:  (9, 1)\n",
      "y_test shape:  (9, 1)\n"
     ]
    }
   ],
   "source": [
    "# Print the dimensions of X_train, X_test, y_train, y_test\n",
    "print(\"X_train shape: \",X_train.shape)\n",
    "print(\"y_train shape: \",y_train.shape)\n",
    "print(\"X_test shape: \",X_test.shape)\n",
    "print(\"y_test shape: \",y_test.shape)"
   ]
  },
  {
   "cell_type": "markdown",
   "metadata": {},
   "source": [
    "#### Training the model & Predict on Test set"
   ]
  },
  {
   "cell_type": "code",
   "execution_count": 74,
   "metadata": {},
   "outputs": [],
   "source": [
    "# Import LinearRegression\n",
    "from sklearn.linear_model import LinearRegression\n",
    "\n",
    "# Create an object of LinearRegression\n",
    "lm=LinearRegression()\n",
    "\n",
    "# Train the model using training Data\n",
    "lm.fit(X_train,y_train)\n",
    "\n",
    "# Predict output on the test data\n",
    "\n",
    "y_hat = lm.predict(X_test)"
   ]
  },
  {
   "cell_type": "markdown",
   "metadata": {},
   "source": [
    "#### Inspect the Coefficient and Intercept"
   ]
  },
  {
   "cell_type": "code",
   "execution_count": 75,
   "metadata": {},
   "outputs": [
    {
     "name": "stdout",
     "output_type": "stream",
     "text": [
      "Model Coefficient:  [[1.66268698]]\n",
      "Model Intercept:  [-12.52197777]\n"
     ]
    }
   ],
   "source": [
    "lm_coef=lm.coef_\n",
    "lm_intercept=lm.intercept_\n",
    "print(\"Model Coefficient: \",lm_coef)\n",
    "print(\"Model Intercept: \",lm_intercept)"
   ]
  },
  {
   "cell_type": "markdown",
   "metadata": {},
   "source": [
    "So now our model : Y = β0 + β1*X\n",
    "\n",
    "β0 = -12.52197777 & β1 = 1.66268698\n",
    "\n",
    "Linear model is : Y = -12.52197777 + 1.66268698*X"
   ]
  },
  {
   "cell_type": "markdown",
   "metadata": {},
   "source": [
    "#### Making Predictions"
   ]
  },
  {
   "cell_type": "code",
   "execution_count": 76,
   "metadata": {},
   "outputs": [
    {
     "data": {
      "text/plain": [
       "array([[ 7.43026596],\n",
       "       [21.56310527],\n",
       "       [22.39444876],\n",
       "       [13.24967038],\n",
       "       [12.91713299]])"
      ]
     },
     "execution_count": 76,
     "metadata": {},
     "output_type": "execute_result"
    }
   ],
   "source": [
    "lm.predict(X)[0:5]"
   ]
  },
  {
   "cell_type": "markdown",
   "metadata": {},
   "source": [
    "### Evaluation Metrics to mesure the Model performance"
   ]
  },
  {
   "cell_type": "markdown",
   "metadata": {},
   "source": [
    "##### MSE (Mean Squared Error) \n",
    "for regression calculates the average squared difference between predicted and actual values.\n",
    "It is a widely used metric to evaluate the performance of regression models, with lower values indicating better accuracy.\n",
    "MSE is computed by averaging the squared differences between each prediction and its corresponding true value."
   ]
  },
  {
   "cell_type": "code",
   "execution_count": 77,
   "metadata": {},
   "outputs": [
    {
     "name": "stdout",
     "output_type": "stream",
     "text": [
      "Mean Squared Error:  146.5494979348981\n"
     ]
    }
   ],
   "source": [
    "# Calculate the Mean squared error\n",
    "\n",
    "from sklearn.metrics import mean_squared_error\n",
    "mse= mean_squared_error(y_test,y_hat)\n",
    "print(\"Mean Squared Error: \",mse)"
   ]
  },
  {
   "cell_type": "markdown",
   "metadata": {},
   "source": [
    "\n",
    "##### R2 Score\n",
    "\n",
    "R2 Score is another metric to evaluate performance of a regression model. It is also called coefficient of determination. It gives us an idea of goodness of fit for the linear regression models. It indicates the percentage of variance that is explained by the model.\n",
    "\n",
    "Mathematically,\n",
    "\n",
    "R2 Score = Explained Variation/Total Variation\n",
    "\n",
    "In general, the higher the R2 Score value, the better the model fits the data. Usually, its value ranges from 0 to 1. So, we want its value to be as close to 1. Its value can become negative if our model is wrong.\n"
   ]
  },
  {
   "cell_type": "code",
   "execution_count": 78,
   "metadata": {},
   "outputs": [
    {
     "name": "stdout",
     "output_type": "stream",
     "text": [
      "R^2 Score : 0.589\n"
     ]
    }
   ],
   "source": [
    "# Calculate the R^2 score\n",
    "\n",
    "from sklearn.metrics import r2_score\n",
    "r2=r2_score(y_test,y_hat)\n",
    "print(\"R^2 Score : {:.3f}\".format(r2)) "
   ]
  },
  {
   "cell_type": "markdown",
   "metadata": {},
   "source": [
    "#### Model Interpretation"
   ]
  },
  {
   "cell_type": "markdown",
   "metadata": {},
   "source": [
    "The MSE value has been found to be 146.549. It means the standard deviation power 2 for our prediction is 146.549. So, sometimes we expect the predictions to be off by more than sqrt(146.549) and other times we expect less than sqrt(146.549). So, the model is not good fit to the data.\n",
    "\n",
    "In business decisions, the benchmark for the R2 score value is 0.7. It means if R2 score value >= 0.7, then the model is good enough to deploy on unseen data whereas if R2 score value < 0.7, then the model is not good enough to deploy. Our R2 score value has been found to be .589.\n",
    "This value indicates that our model explqins 58.9% of the variation in our dependent variable. So, the R2 score value confirms that the model is not good enough to deploy because it does not provide good fit to the data."
   ]
  },
  {
   "cell_type": "code",
   "execution_count": 79,
   "metadata": {},
   "outputs": [
    {
     "data": {
      "image/png": "[encoded data removed]",
      "text/plain": [
       "<Figure size 640x480 with 1 Axes>"
      ]
     },
     "metadata": {},
     "output_type": "display_data"
    }
   ],
   "source": [
    "# Plotting the Regression Line using matplot lib\n",
    "plt.scatter(X, y, color = 'red',label=\"Actual\")\n",
    "plt.plot(X_test, y_hat, color = 'blue',linewidth=3,label=\"Regression Line\")\n",
    "plt.title('Linear Regression')\n",
    "plt.xlabel('Sales')\n",
    "plt.ylabel('Advertising')\n",
    "plt.legend(loc=\"lower right\")\n",
    "plt.show()\n"
   ]
  },
  {
   "cell_type": "markdown",
   "metadata": {},
   "source": [
    "#### Residual analysis\n",
    "\n",
    "A linear regression model may not represent the data appropriately. The model may be a poor fit to the data. So, we should validate our model by defining and examining residual plots.\n",
    "\n",
    "The difference between the observed value of the dependent variable (y) and the predicted value (ŷi) is called the residual and is denoted by the scatter-plot of these residuals that is called \"residual plot\".\n",
    "\n",
    "If the data points in a residual plot are randomly dispersed around horizontal axis and an approximate zero residual mean, a linear regression model may be appropriate for the data. Otherwise a non-linear model may be more appropriate.\n",
    "\n",
    "If we take a look at the generated ‘Residual errors’ plot, we can clearly see that the train data plot pattern is non-random. Same is the case with the test data plot pattern. So, it suggests a better-fit for a non-linear model.\n"
   ]
  },
  {
   "cell_type": "code",
   "execution_count": 80,
   "metadata": {},
   "outputs": [
    {
     "data": {
      "image/png": "[encoded data removed]",
      "text/plain": [
       "<Figure size 640x480 with 1 Axes>"
      ]
     },
     "metadata": {},
     "output_type": "display_data"
    }
   ],
   "source": [
    "plt.scatter(lm.predict(X_train), lm.predict(X_train) - y_train, c = 'blue', label = \"Train Data\")\n",
    "plt.scatter(lm.predict(X_test), lm.predict(X_test) - y_test, c = 'red', label = \"Test Data\")\n",
    "plt.hlines(xmin=0,xmax=50,linewidth = 3, y = 0,color=\"black\")\n",
    "plt.title(\"Residual Errors Plot\")\n",
    "plt.legend(loc = 'lower right')\n",
    "plt.show()\n"
   ]
  },
  {
   "cell_type": "markdown",
   "metadata": {},
   "source": [
    "#### Overfitting and Underfitting"
   ]
  },
  {
   "cell_type": "code",
   "execution_count": 81,
   "metadata": {},
   "outputs": [
    {
     "name": "stdout",
     "output_type": "stream",
     "text": [
      "Training set score: 0.3070\n",
      "Test set score: 0.5888\n"
     ]
    }
   ],
   "source": [
    "training_set_score=lm.score(X_train,y_train)\n",
    "test_set_score=lm.score(X_test,y_test)\n",
    "\n",
    "print(\"Training set score: {:.4f}\".format(training_set_score))\n",
    "\n",
    "print(\"Test set score: {:.4f}\".format(test_set_score))"
   ]
  },
  {
   "cell_type": "markdown",
   "metadata": {},
   "source": [
    "The model performs poorly on the test set with a score of 0.3070, this is an indication of underfitting meaning that the model was not able to properly learn the relationships, this may be due to many reasons ( lack of observations, lack of features to use in order to predict)"
   ]
  }
 ],
 "metadata": {
  "kernelspec": {
   "display_name": "Python 3",
   "language": "python",
   "name": "python3"
  },
  "language_info": {
   "codemirror_mode": {
    "name": "ipython",
    "version": 3
   },
   "file_extension": ".py",
   "mimetype": "text/x-python",
   "name": "python",
   "nbconvert_exporter": "python",
   "pygments_lexer": "ipython3",
   "version": "3.11.8"
  }
 },
 "nbformat": 4,
 "nbformat_minor": 2
}
